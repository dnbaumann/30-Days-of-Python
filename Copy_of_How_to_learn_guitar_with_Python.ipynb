{
  "nbformat": 4,
  "nbformat_minor": 0,
  "metadata": {
    "colab": {
      "name": "Copy of How to learn guitar with Python.ipynb",
      "provenance": [],
      "include_colab_link": true
    },
    "language_info": {
      "codemirror_mode": {
        "name": "ipython",
        "version": 3
      },
      "file_extension": ".py",
      "mimetype": "text/x-python",
      "name": "python",
      "nbconvert_exporter": "python",
      "pygments_lexer": "ipython3",
      "version": "3.6.6"
    },
    "kernelspec": {
      "display_name": "Python 3",
      "language": "python",
      "name": "python3"
    }
  },
  "cells": [
    {
      "cell_type": "markdown",
      "metadata": {
        "id": "view-in-github",
        "colab_type": "text"
      },
      "source": [
        "<a href=\"https://colab.research.google.com/github/dnbaumann/30-Days-of-Python/blob/master/Copy_of_How_to_learn_guitar_with_Python.ipynb\" target=\"_parent\"><img src=\"https://colab.research.google.com/assets/colab-badge.svg\" alt=\"Open In Colab\"/></a>"
      ]
    },
    {
      "cell_type": "markdown",
      "metadata": {
        "id": "HY5P9eLJ9rvj",
        "colab_type": "text"
      },
      "source": [
        "# How to learn guitar with Python\n",
        "\n",
        "This is a shorter version of the article with all the code we need.\n",
        "\n",
        "\n",
        "## Overview\n",
        "\n",
        "The purpose of this tutorial is to create a program with which you can find the position of the notes of a given scale in the guitar. For that we will have to figure out methods to:\n",
        "- Extract the notes composing a given scale.\n",
        "- Locate where they are positioned in the strings of the guitar.\n",
        "- Plot the strings and frets of the guitar along the notes of the scale. \n",
        "\n",
        "Let's start!"
      ]
    },
    {
      "cell_type": "markdown",
      "metadata": {
        "id": "rVn3CMBE9rvl",
        "colab_type": "text"
      },
      "source": [
        "## Extracting Notes\n",
        "\n",
        "An easy way to create chromatic scales (without typing them explicitly) is to concatenate a list with all the notes with itself and slice the desired elements. Let's see how:"
      ]
    },
    {
      "cell_type": "code",
      "metadata": {
        "id": "EOJhvzHS9rvo",
        "colab_type": "code",
        "colab": {}
      },
      "source": [
        "# a sufficiently long list to take 12 notes out of any note\n",
        "whole_notes = ['C' , 'C#', 'D', 'D#', 'E', 'F', 'F#' , 'G', 'G#', 'A', 'A#', 'B']*3"
      ],
      "execution_count": null,
      "outputs": []
    },
    {
      "cell_type": "code",
      "metadata": {
        "id": "jNYdtu4pdSbY",
        "colab_type": "code",
        "colab": {
          "base_uri": "https://localhost:8080/",
          "height": 35
        },
        "outputId": "33eaa902-3309-452f-d3c3-68d9276a8cbb"
      },
      "source": [
        "print(whole_notes)"
      ],
      "execution_count": null,
      "outputs": [
        {
          "output_type": "stream",
          "text": [
            "['C', 'C#', 'D', 'D#', 'E', 'F', 'F#', 'G', 'G#', 'A', 'A#', 'B', 'C', 'C#', 'D', 'D#', 'E', 'F', 'F#', 'G', 'G#', 'A', 'A#', 'B', 'C', 'C#', 'D', 'D#', 'E', 'F', 'F#', 'G', 'G#', 'A', 'A#', 'B']\n"
          ],
          "name": "stdout"
        }
      ]
    },
    {
      "cell_type": "markdown",
      "metadata": {
        "id": "qqYq576z9rvu",
        "colab_type": "text"
      },
      "source": [
        "We concatenate three octaves worth of notes together and save it as whole_notes. Having a list like this allows us to easily slice chromatic scales, starting with any root. Let's see an example with B:"
      ]
    },
    {
      "cell_type": "code",
      "metadata": {
        "id": "HMJXTGH59rvw",
        "colab_type": "code",
        "colab": {
          "base_uri": "https://localhost:8080/",
          "height": 35
        },
        "outputId": "7f896a94-7e0a-46a6-e9ba-edf58e048f38"
      },
      "source": [
        "# index where element 'B' is located.\n",
        "root = whole_notes.index('B')\n",
        "# starting from this index, slice twelve elements\n",
        "B = whole_notes[root:root+12]\n",
        "print('B chromatic scale: ', B)"
      ],
      "execution_count": null,
      "outputs": [
        {
          "output_type": "stream",
          "text": [
            "B chromatic scale:  ['B', 'C', 'C#', 'D', 'D#', 'E', 'F', 'F#', 'G', 'G#', 'A', 'A#']\n"
          ],
          "name": "stdout"
        }
      ]
    },
    {
      "cell_type": "markdown",
      "metadata": {
        "id": "bc3anVPT9rv5",
        "colab_type": "text"
      },
      "source": [
        "Now that we have an octave starting from B we can use the intervals of  scale to retrieve the B major scale:"
      ]
    },
    {
      "cell_type": "code",
      "metadata": {
        "id": "nVK0-YjT9rv6",
        "colab_type": "code",
        "colab": {
          "base_uri": "https://localhost:8080/",
          "height": 35
        },
        "outputId": "4d20cb1c-d8d3-43cf-c1da-170f428bda12"
      },
      "source": [
        "# intervals of the major scale as indexes:\n",
        "major_scale = [0, 2, 4, 5, 7, 9, 11]\n",
        "# selecting the indexes of the octave we want\n",
        "notes = [B[i] for i in major_scale]\n",
        "print('B major scale:', notes)"
      ],
      "execution_count": null,
      "outputs": [
        {
          "output_type": "stream",
          "text": [
            "B major scale: ['B', 'C#', 'D#', 'E', 'F#', 'G#', 'A#']\n"
          ],
          "name": "stdout"
        }
      ]
    },
    {
      "cell_type": "markdown",
      "metadata": {
        "id": "zEUF9mKG9rwD",
        "colab_type": "text"
      },
      "source": [
        "If we want to retrieve the notes contained in another scale we do the same:"
      ]
    },
    {
      "cell_type": "code",
      "metadata": {
        "id": "GvtL75M69rwF",
        "colab_type": "code",
        "colab": {
          "base_uri": "https://localhost:8080/",
          "height": 35
        },
        "outputId": "85d8d5fe-246e-4348-df0a-294fddcd61e6"
      },
      "source": [
        "another_scale = [0, 2, 5, 10, 11]\n",
        "notes = [B[i] for i in another_scale]\n",
        "print('Some scale ', notes)"
      ],
      "execution_count": null,
      "outputs": [
        {
          "output_type": "stream",
          "text": [
            "Some scale  ['B', 'C#', 'E', 'A', 'A#']\n"
          ],
          "name": "stdout"
        }
      ]
    },
    {
      "cell_type": "markdown",
      "metadata": {
        "id": "_ZLw3NSn9rwN",
        "colab_type": "text"
      },
      "source": [
        "Hopefully now you can see where this is all going. Let's better write this a function for convenience: this summarizes all the code we've implemented so far:"
      ]
    },
    {
      "cell_type": "code",
      "metadata": {
        "id": "D1qZc7jz9rwO",
        "colab_type": "code",
        "colab": {}
      },
      "source": [
        "def get_notes(key, intervals):\n",
        "    \"\"\"Given any key C, C#... B\n",
        "       and intervals z.B Tone Tone Semitone\"\"\"\n",
        "    root = whole_notes.index(key)\n",
        "    octave = whole_notes[root:root+12]\n",
        "    return [octave[i] for i in intervals]"
      ],
      "execution_count": null,
      "outputs": []
    },
    {
      "cell_type": "markdown",
      "metadata": {
        "id": "F2eKffW89rwU",
        "colab_type": "text"
      },
      "source": [
        "- We create a chromatic scale (`octave`) starting at a given root.\n",
        "- Then extract the notes specified by 1intervals`(the indexes of notes to be played) and return them in a list.\n",
        "\n",
        "Now let's create a dictionary with common musical scales to make this more useful:"
      ]
    },
    {
      "cell_type": "code",
      "metadata": {
        "id": "N_NsYYJP9rwV",
        "colab_type": "code",
        "colab": {}
      },
      "source": [
        "# Now given some intervals\n",
        "scales = { \n",
        "    \"major\" : [0, 2, 4, 5, 7, 9, 11],\n",
        "    \"minor\" : [0, 2 , 3, 5, 7,8, 10,],\n",
        "    \"dorian\" : [0,  2,  3,  5,  7,  9, 10],\n",
        "    \"phrygian\" : [0, 1, 3, 5, 7, 8, 10 ],\n",
        "    \"minor_pentatonic\" : [0, 3, 5, 7, 10],\n",
        "    \"major_pentatonic\" : [0, 2, 4, 7, 9],\n",
        "    \"harmonic_minor\" : [0, 2, 3, 5, 7, 8, 10,],\n",
        "    \"aeolian\" : [0, 2, 3, 5, 7, 8, 10,],\n",
        "    \"minor_blues\" : [0, 3, 5, 6, 7, 10],\n",
        "    \"locrian\" : [0, 1, 3, 5, 6, 8, 10,],\n",
        "    \"lydian\" :[0, 2, 4, 6, 7, 9, 11,],\n",
        "}"
      ],
      "execution_count": null,
      "outputs": []
    },
    {
      "cell_type": "markdown",
      "metadata": {
        "id": "6Zk8RsPP9rwZ",
        "colab_type": "text"
      },
      "source": [
        "Using this dictionary, we now have an easy way of accessing the notes of any scale, starting at any root as seen below:"
      ]
    },
    {
      "cell_type": "code",
      "metadata": {
        "id": "u3ijUVaQ9rwa",
        "colab_type": "code",
        "colab": {
          "base_uri": "https://localhost:8080/",
          "height": 127
        },
        "outputId": "ed2dc4c8-9456-4727-fbfc-a5a1fee48193"
      },
      "source": [
        "print('Notes of C major scale:\\n{}'.format(get_notes('C', scales['major'])))\n",
        "print('Notes of B minor scale:\\n{}'.format(get_notes('B', scales['minor'])))\n",
        "print('Notes of F# locrian scale:\\n{}'.format(get_notes('F#', scales['locrian'])))"
      ],
      "execution_count": null,
      "outputs": [
        {
          "output_type": "stream",
          "text": [
            "Notes of C major scale:\n",
            "['C', 'D', 'E', 'F', 'G', 'A', 'B']\n",
            "Notes of B minor scale:\n",
            "['B', 'C#', 'D', 'E', 'F#', 'G', 'A']\n",
            "Notes of F# locrian scale:\n",
            "['F#', 'G', 'A', 'B', 'C', 'D', 'E']\n"
          ],
          "name": "stdout"
        }
      ]
    },
    {
      "cell_type": "markdown",
      "metadata": {
        "id": "wupRjQ2A9rwg",
        "colab_type": "text"
      },
      "source": [
        "## Creating the Guitar\n",
        "\n",
        "We're almost done! Now that we have a way of accessing the notes of a scale, let's create a guitar to visualize them. This will involve representing the strings of the guitar as a dictionary. Let's see how we can implement this:"
      ]
    },
    {
      "cell_type": "code",
      "metadata": {
        "id": "8dI1gZfr9rwh",
        "colab_type": "code",
        "colab": {
          "base_uri": "https://localhost:8080/",
          "height": 35
        },
        "outputId": "3f52789a-4c62-4b74-9295-e089ee3c2fd2"
      },
      "source": [
        "# Creating strings of guitar\n",
        "start_strings = []\n",
        "strings = {i:0 for i in 'EADGB'}\n",
        "for i in strings.keys():\n",
        "    start = whole_notes.index(i)\n",
        "    strings[i] = whole_notes[start:start+20]\n",
        "print(strings.keys())"
      ],
      "execution_count": null,
      "outputs": [
        {
          "output_type": "stream",
          "text": [
            "dict_keys(['E', 'A', 'D', 'G', 'B'])\n"
          ],
          "name": "stdout"
        }
      ]
    },
    {
      "cell_type": "markdown",
      "metadata": {
        "id": "63-9UquF9rwo",
        "colab_type": "text"
      },
      "source": [
        "Using this dict, we can access notes in any string:"
      ]
    },
    {
      "cell_type": "code",
      "metadata": {
        "id": "QrM7jiKN9rwp",
        "colab_type": "code",
        "colab": {
          "base_uri": "https://localhost:8080/",
          "height": 54
        },
        "outputId": "dddee5be-d044-47f0-8862-79ef931f21cf"
      },
      "source": [
        "print('Notes in the E string: ', strings['E'])\n",
        "print('Notes in the D string: ', strings['D'])"
      ],
      "execution_count": null,
      "outputs": [
        {
          "output_type": "stream",
          "text": [
            "Notes in the E string:  ['E', 'F', 'F#', 'G', 'G#', 'A', 'A#', 'B', 'C', 'C#', 'D', 'D#', 'E', 'F', 'F#', 'G', 'G#', 'A', 'A#', 'B']\n",
            "Notes in the D string:  ['D', 'D#', 'E', 'F', 'F#', 'G', 'G#', 'A', 'A#', 'B', 'C', 'C#', 'D', 'D#', 'E', 'F', 'F#', 'G', 'G#', 'A']\n"
          ],
          "name": "stdout"
        }
      ]
    },
    {
      "cell_type": "markdown",
      "metadata": {
        "id": "WG5aMwh39rws",
        "colab_type": "text"
      },
      "source": [
        "By having the notes in the strings in this manner. We are now able to match them with the notes of our scales to find their position."
      ]
    },
    {
      "cell_type": "markdown",
      "metadata": {
        "id": "4-JC_PRc9rwu",
        "colab_type": "text"
      },
      "source": [
        "## Finding notes in the guitar\n",
        "\n",
        "To record the positions of the notes we will be creating yet another dictionary. For each note in a given scale we will add the position(index) where it is located in each string of the guitar. For this we will be doing the same we've been doing so far, accessing elements of lists using indexes."
      ]
    },
    {
      "cell_type": "code",
      "metadata": {
        "id": "-IalokIN9rwv",
        "colab_type": "code",
        "colab": {}
      },
      "source": [
        "def find_notes(scale):\n",
        "    notes_strings = {i:0 for i in \"EADGB\"}\n",
        "    # for every string \n",
        "    for key in strings.keys():\n",
        "        # we create an empty list of indexes\n",
        "        indexes = []\n",
        "        for note in scale:\n",
        "            # append index where note of the scale is found in\n",
        "            ind = strings[key].index(note)\n",
        "            indexes.append(ind)\n",
        "            # because there are 20 frets, there are duplicate notes in the string\n",
        "            if ind <= 7:\n",
        "                # we must also append these to indexes\n",
        "                indexes.append(ind+12)\n",
        "        notes_strings[key] = indexes\n",
        "    return notes_strings"
      ],
      "execution_count": null,
      "outputs": []
    },
    {
      "cell_type": "markdown",
      "metadata": {
        "id": "l_r_Fcnw9rwy",
        "colab_type": "text"
      },
      "source": [
        "Only little detail we have to pay attention to is that because the our strings contain 20 and not 12 notes, some notes are repeated. As we saw before by printing `strings['E']`, all the notes from E to B are repeated twice. The last note to be repeated: B,  is at indexes 7 and 19. So, for all notes found in the strings at an index 7 or less we must add its duplicate index. \n",
        "\n",
        "Calling the function returns a dictionary with the name of the strings as keys and the position of notes in the specified scale as values."
      ]
    },
    {
      "cell_type": "code",
      "metadata": {
        "id": "GmIqM28R9rwz",
        "colab_type": "code",
        "colab": {
          "base_uri": "https://localhost:8080/",
          "height": 127
        },
        "outputId": "9b18c6e8-d699-4f96-e675-1f3fb05c61fe"
      },
      "source": [
        "# finding notes in a scale:\n",
        "C_minor_blues = get_notes('C', scales['minor_blues'])\n",
        "# finding positions of these notes in the guitar, as a dict\n",
        "positions = find_notes(C_minor_blues)\n",
        "print('Position of C minor blues in the guitar:')\n",
        "for i in positions.keys():\n",
        "    print('Notes in the {} string {}'.format(i, positions[i]))"
      ],
      "execution_count": null,
      "outputs": [
        {
          "output_type": "stream",
          "text": [
            "Position of C minor blues in the guitar:\n",
            "Notes in the E string [8, 11, 1, 13, 2, 14, 3, 15, 6, 18]\n",
            "Notes in the A string [3, 15, 6, 18, 8, 9, 10, 1, 13]\n",
            "Notes in the D string [10, 1, 13, 3, 15, 4, 16, 5, 17, 8]\n",
            "Notes in the G string [5, 17, 8, 10, 11, 0, 12, 3, 15]\n",
            "Notes in the B string [1, 13, 4, 16, 6, 18, 7, 19, 8, 11]\n"
          ],
          "name": "stdout"
        }
      ]
    },
    {
      "cell_type": "markdown",
      "metadata": {
        "id": "r6z6Rsll9rw4",
        "colab_type": "text"
      },
      "source": [
        "Now that we  have easy access to this information we are finally able to plot this in the guitar :)."
      ]
    },
    {
      "cell_type": "markdown",
      "metadata": {
        "id": "MjxCyLt99rw4",
        "colab_type": "text"
      },
      "source": [
        "## Plotting Guitar\n",
        "\n",
        "Displaying a guitar involves several steps:\n",
        "\n",
        "- Plotting the strings E, A,D,G,B and high E as horizontal lines in a 2D plot at different heights y=1, 2, 3, 4, 5, 6. (For loop line 9 ).\n",
        "- Plotting the frets of the guitar as vertical lines. (For loop line 12).\n",
        "- Finding the position of notes for our desired scale using the function find_notes from before and saving them as a dictionary to_plot.\n",
        "- Creating circles with labels inside to represent the notes and their location in the guitar. (Nested for loop lines 28, 29).\n",
        "\n",
        "I also added some non-essential code to make it look cooler. Make sure to check the comments if you are curious."
      ]
    },
    {
      "cell_type": "code",
      "metadata": {
        "id": "QqZpI0Pl9rw5",
        "colab_type": "code",
        "colab": {}
      },
      "source": [
        "import matplotlib.pyplot as plt\n",
        "import numpy as np\n",
        "import matplotlib.patches as mpatches\n",
        "\n",
        "def plot(key, intervals, night=True):\n",
        "    scale = get_notes(key, intervals)\n",
        "    # Plot Strings\n",
        "    fig, ax = plt.subplots(figsize=(20,6))\n",
        "    background = ['white', 'black']\n",
        "    for i in range(1,7):\n",
        "        ax.plot([i for a in range(22)])\n",
        "    # Plotting Frets\n",
        "    for i in range(1,21):\n",
        "        if i == 12:\n",
        "            ax.axvline(x=i, color='gray', linewidth=3.5)\n",
        "            continue\n",
        "        ax.axvline(x=i, color=background[night-1], linewidth=0.5)\n",
        "    \n",
        "    #ax.grid(linestyle='-', linewidth='0.5', color='black')\n",
        "    ax.set_axisbelow(True)\n",
        "    \n",
        "    # setting height and width of displayed guitar\n",
        "    ax.set_xlim([0.5, 21])\n",
        "    ax.set_ylim([0.4, 6.5])\n",
        "    ax.set_facecolor(background[night])\n",
        "    to_plot = find_notes(scale)\n",
        "    \n",
        "    # ACHTUNG!!!\n",
        "    for y_val, key in zip([1,2,3,4,5,6], 'EADGBE'):\n",
        "        for i in to_plot[key]:\n",
        "            font = 12\n",
        "            x = i+0.5  # /figheight\n",
        "            p = mpatches.Circle((x, y_val), 0.2)\n",
        "            ax.add_patch(p)\n",
        "            note = strings[key][i]\n",
        "            # if note is root make it a bit bigger\n",
        "            if note == scale[0]:\n",
        "                font=14.5\n",
        "            ax.annotate(note, (i+0.5, y_val), color='w', weight='bold', \n",
        "                            fontsize=font, ha='center', va='center')\n",
        "                \n",
        "    plt.title('_| _| _| _| _|'*16)\n",
        "    plt.yticks(np.arange(1,7), ['E', 'A', 'D', 'G', 'B', 'E'])\n",
        "    plt.xticks(np.arange(21)+0.5, np.arange(0,22))\n",
        "    plt.show()"
      ],
      "execution_count": null,
      "outputs": []
    },
    {
      "cell_type": "markdown",
      "metadata": {
        "id": "hnf8gBca9rw7",
        "colab_type": "text"
      },
      "source": [
        "Here is the end result of this little adventure: by calling the function plot and specifying a root and a scale, we can display a matplotlib guitar with the info we need to play along :D."
      ]
    },
    {
      "cell_type": "code",
      "metadata": {
        "id": "zq5HvGJB9rw8",
        "colab_type": "code",
        "colab": {
          "base_uri": "https://localhost:8080/",
          "height": 390
        },
        "outputId": "beb97b24-532d-442e-ad07-864fb1d7bd43"
      },
      "source": [
        "plot('G', scales['minor'])"
      ],
      "execution_count": null,
      "outputs": [
        {
          "output_type": "display_data",
          "data": {
            "image/png": "[encoded data removed]",
            "text/plain": [
              "<Figure size 1440x432 with 1 Axes>"
            ]
          },
          "metadata": {
            "tags": [],
            "needs_background": "light"
          }
        }
      ]
    },
    {
      "cell_type": "markdown",
      "metadata": {
        "id": "XLSTx4go9rxF",
        "colab_type": "text"
      },
      "source": [
        "We can also use Forms in colab  to make this easier to use. Just change the options, run the cell and call the plot the plot again.\n"
      ]
    },
    {
      "cell_type": "code",
      "metadata": {
        "id": "zsP4hozkAk-e",
        "colab_type": "code",
        "cellView": "form",
        "colab": {}
      },
      "source": [
        "#@title Display Guitar\n",
        "Root = 'A' #@param ['C', 'C#', 'D', 'D#', 'E', 'F', 'F#', 'G', 'G#', 'A', 'A#', 'B']\n",
        "Scale = 'minor_blues' #@param ['major','minor','dorian','phrygian','minor_pentatonic','major_pentatonic','harmonic_minor','aeolian','minor_blues','locrian','lydian']"
      ],
      "execution_count": null,
      "outputs": []
    },
    {
      "cell_type": "code",
      "metadata": {
        "id": "Bqt1UBfaBjTU",
        "colab_type": "code",
        "colab": {
          "base_uri": "https://localhost:8080/",
          "height": 172
        },
        "outputId": "b57be65a-88fa-49d8-da2e-51a2d026bf35"
      },
      "source": [
        "plot(Root, scales[Scale])"
      ],
      "execution_count": null,
      "outputs": [
        {
          "output_type": "error",
          "ename": "NameError",
          "evalue": "ignored",
          "traceback": [
            "\u001b[0;31m---------------------------------------------------------------------------\u001b[0m",
            "\u001b[0;31mNameError\u001b[0m                                 Traceback (most recent call last)",
            "\u001b[0;32m<ipython-input-3-a7d79781c95d>\u001b[0m in \u001b[0;36m<module>\u001b[0;34m()\u001b[0m\n\u001b[0;32m----> 1\u001b[0;31m \u001b[0mplot\u001b[0m\u001b[0;34m(\u001b[0m\u001b[0mRoot\u001b[0m\u001b[0;34m,\u001b[0m \u001b[0mscales\u001b[0m\u001b[0;34m[\u001b[0m\u001b[0mScale\u001b[0m\u001b[0;34m]\u001b[0m\u001b[0;34m)\u001b[0m\u001b[0;34m\u001b[0m\u001b[0;34m\u001b[0m\u001b[0m\n\u001b[0m",
            "\u001b[0;31mNameError\u001b[0m: name 'plot' is not defined"
          ]
        }
      ]
    },
    {
      "cell_type": "markdown",
      "metadata": {
        "id": "btFWIMQIDJ1E",
        "colab_type": "text"
      },
      "source": [
        "That's it! I hope you someone actually plays the guitar with this :D."
      ]
    }
  ]
}